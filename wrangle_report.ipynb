{
 "cells": [
  {
   "cell_type": "markdown",
   "id": "ef07c9e1",
   "metadata": {},
   "source": [
    "<html>\n",
    "    <body>\n",
    "        <h1>Wrangle Report</h1>\n",
    "        <p1>\n",
    "    </body>     \n",
    "</html>"
   ]
  },
  {
   "cell_type": "markdown",
   "id": "b89172ee",
   "metadata": {},
   "source": [
    "1. I've started from merging data together, since not all the tweets were in all datasets,I’ve rejected those they were not."
   ]
  },
  {
   "cell_type": "code",
   "execution_count": 1,
   "id": "6b931fbd",
   "metadata": {},
   "outputs": [],
   "source": [
    "# doggies2 = dogs2.merge(dogs3,on='tweet_id',how='inner')\n",
    "            \n",
    "# doggies = dogs.merge(doggies2,on='tweet_id',how='inner')"
   ]
  },
  {
   "cell_type": "markdown",
   "id": "87aee71f",
   "metadata": {},
   "source": [
    "2. I wanted to work only with original tweets, not ones which were replayed to other users, so I've deleted those."
   ]
  },
  {
   "cell_type": "code",
   "execution_count": 2,
   "id": "560d4b5f",
   "metadata": {},
   "outputs": [],
   "source": [
    "# labels =doggies['in_reply_to_user_id'].dropna().index.to_list(),            \n",
    "# labels2 =doggies['retweeted_status_id'].dropna().index.to_list()\n",
    "# doggies.drop(axis=0,labels=labels,inplace=True)\n",
    "# doggies.drop(axis=0,labels=labels2,inplace=True)"
   ]
  },
  {
   "cell_type": "markdown",
   "id": "5084c781",
   "metadata": {},
   "source": [
    "3. Then I've noticed that some columns were empty, so I've deleted these columns. (the ones linked to retweets)"
   ]
  },
  {
   "cell_type": "code",
   "execution_count": 3,
   "id": "a6ad473d",
   "metadata": {},
   "outputs": [],
   "source": [
    "#columns = ['in_reply_to_user_id','in_reply_to_status_id','retweeted_status_id',\n",
    "#           'retweeted_status_user_id','retweeted_status_timestamp']\n",
    "\n",
    "#doggies.drop(axis=1,columns=columns,inplace=True)"
   ]
  },
  {
   "cell_type": "markdown",
   "id": "c51a6684",
   "metadata": {},
   "source": [
    "4. I've added new columns 'breed' and 'breed conf.' and used the script I've written to fill them with the values with the highest probability. NOTICE : In this code I'm also changing all breeds names to lowercase letters."
   ]
  },
  {
   "cell_type": "code",
   "execution_count": 4,
   "id": "1f77aa29",
   "metadata": {},
   "outputs": [],
   "source": [
    "#masterdog = doggies\n",
    "#masterdog['breed'] = np.nan\n",
    "#masterdog['breed conf.'] = np.nan\n",
    "#indexer = []\n",
    "#for _ in masterdog['tweet_id']:\n",
    "#    indexer.append(_)\n",
    "#masterdog.set_index('tweet_id',inplace=True)\n",
    "#for _ in indexer:\n",
    "#    p1 = masterdog.loc[_,'p1']\n",
    "#    p2 = masterdog.loc[_,'p2']\n",
    "#    p3 = masterdog.loc[_,'p3']\n",
    "    \n",
    "#    p1 = p1.lower()\n",
    "#    p2 = p2.lower()\n",
    "#    p3 = p3.lower()\n",
    "    \n",
    "#    p1_conf = masterdog.loc[_,'p1_conf']\n",
    "#    p2_conf = masterdog.loc[_,'p2_conf']\n",
    "#    p3_conf = masterdog.loc[_,'p3_conf']\n",
    "    \n",
    "#    p1_dog = masterdog.loc[_,'p1_dog']\n",
    "#    p2_dog = masterdog.loc[_,'p2_dog']\n",
    "#    p3_dog = masterdog.loc[_,'p3_dog']\n",
    "    \n",
    "#    if p1_dog == True:\n",
    "#        masterdog.loc[_,'breed'] = p1\n",
    "#        masterdog.loc[_,'breed conf.'] = p1_conf\n",
    "#    elif p2_dog == True and p1_dog != True:\n",
    "#        masterdog.loc[_,'breed'] = p2\n",
    "#        masterdog.loc[_,'breed conf.'] = p2_conf\n",
    "#    elif p3_dog == True and p1_dog != True and p2_dog != True:\n",
    "#        masterdog.loc[_,'breed'] = p3\n",
    "#        masterdog.loc[_,'breed conf.'] = p3_conf\n",
    "#    else:\n",
    "#        continue"
   ]
  },
  {
   "cell_type": "markdown",
   "id": "a6fbd772",
   "metadata": {},
   "source": [
    "5. Since I had got different denominators, I've gotten rid of entries not equal to 10, so Our rating will be more accurate."
   ]
  },
  {
   "cell_type": "code",
   "execution_count": 5,
   "id": "6c7587b0",
   "metadata": {},
   "outputs": [],
   "source": [
    "#masterdog = masterdog.where(masterdog['rating_denominator']==10).dropna()"
   ]
  },
  {
   "cell_type": "markdown",
   "id": "3320c2b8",
   "metadata": {},
   "source": [
    "6. I've also gotten rid of data We won't be using further. Like columns used before in script to predict breed of dog. And some others which had many values marked as None."
   ]
  },
  {
   "cell_type": "code",
   "execution_count": 6,
   "id": "2512244a",
   "metadata": {},
   "outputs": [],
   "source": [
    "#masterdog.drop(axis=1,columns=['p1','p1_conf','p1_dog','p2','p2_conf','p2_dog',\n",
    "#                              'p3','p3_conf','p3_dog'],inplace=True)\n"
   ]
  },
  {
   "cell_type": "markdown",
   "id": "646211e4",
   "metadata": {},
   "source": [
    "7. Some names in dataset are missing. We don't want to drop records just becouse names were extracted wrongly, but from We can see in description some of tweets are still not dogs. We will delete them."
   ]
  },
  {
   "cell_type": "code",
   "execution_count": 1,
   "id": "23a043e4",
   "metadata": {},
   "outputs": [],
   "source": [
    "#masterdog.reset_index(inplace=True)\n",
    "#labels3 = []\n",
    "#for _ in masterdog['tweet_id']:\n",
    "#    labels3.append(_)\n",
    "#masterdog.set_index('tweet_id',inplace=True)\n",
    "#toTrash = []\n",
    "#for _ in labels3:\n",
    "#    tabu = 'we only rate dogs'\n",
    "#    text =  masterdog.loc[_,'text']\n",
    "#    text = text.lower()\n",
    "#    if tabu in text:\n",
    "#        toTrash.append(_)\n",
    "#    else:\n",
    "#        continue"
   ]
  },
  {
   "cell_type": "markdown",
   "id": "13d791bd",
   "metadata": {},
   "source": [
    "8. We will delete columns doggo, floofer, pupper, puppo. Becouse I'm not interested in them in my analyses."
   ]
  },
  {
   "cell_type": "code",
   "execution_count": null,
   "id": "1fa1549d",
   "metadata": {},
   "outputs": [],
   "source": [
    "#toTrash2 = ['doggo', 'floofer', 'pupper', 'puppo']\n",
    "#masterdog.drop(axis=1,columns=toTrash2,inplace=True)"
   ]
  },
  {
   "cell_type": "markdown",
   "id": "6e76772a",
   "metadata": {},
   "source": [
    "9. Then I had to discard breeds which occurs less than 20 times and marked them as others just for sanity and\n",
    "visibility of plots."
   ]
  },
  {
   "cell_type": "code",
   "execution_count": 7,
   "id": "f20a2c36",
   "metadata": {},
   "outputs": [],
   "source": [
    "#data = masterdog['breed'].value_counts()\n",
    "\n",
    "#breeds = pd.DataFrame(data)\n",
    "#breeds.reset_index(inplace=True)\n",
    "#indexer2 = []\n",
    "#for _ in breeds['index']:\n",
    "#    indexer2.append(_)\n",
    "#breeds.set_index('index',inplace=True)\n",
    "\n",
    "#other = 0\n",
    "#for _ in indexer2:\n",
    "#    race = breeds.loc[_,'breed']\n",
    "#    if race less then 20:\n",
    "#        other += 1\n",
    "#        breeds = breeds.drop(axis=0,labels=_).dropna()\n",
    "#    else:\n",
    "#        continue\n",
    "#breeds.reset_index(inplace=True)\n",
    "#newline = {'index':'other','breed':94}\n",
    "#plotbreeds = breeds.append(newline,ignore_index=True)"
   ]
  },
  {
   "cell_type": "code",
   "execution_count": null,
   "id": "7507e03d",
   "metadata": {},
   "outputs": [],
   "source": []
  }
 ],
 "metadata": {
  "kernelspec": {
   "display_name": "Python 3 (ipykernel)",
   "language": "python",
   "name": "python3"
  },
  "language_info": {
   "codemirror_mode": {
    "name": "ipython",
    "version": 3
   },
   "file_extension": ".py",
   "mimetype": "text/x-python",
   "name": "python",
   "nbconvert_exporter": "python",
   "pygments_lexer": "ipython3",
   "version": "3.9.12"
  }
 },
 "nbformat": 4,
 "nbformat_minor": 5
}
